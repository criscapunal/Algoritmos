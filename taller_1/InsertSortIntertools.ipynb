{
 "cells": [
  {
   "cell_type": "code",
   "execution_count": 4,
   "metadata": {},
   "outputs": [],
   "source": [
    "from itertools import *"
   ]
  },
  {
   "cell_type": "code",
   "execution_count": 9,
   "metadata": {},
   "outputs": [],
   "source": [
    "def insertionSort(array):\n",
    "\n",
    "    comparations = 0\n",
    "    swaps = 0\n",
    "    instructions = 0\n",
    "    \n",
    "    for i in range(1,len(array)):\n",
    "        temp = array[i]\n",
    "        j = i - 1\n",
    "        while j > -1 and temp < array[j]:\n",
    "            comparations += 1\n",
    "            array[j+1] = array[j]\n",
    "            j = j-1\n",
    "            swaps += 1\n",
    "            instructions += 3\n",
    "        instructions += 1\n",
    "        array[j+1] = temp\n",
    "        instructions += 4\n",
    "\n",
    "        if j != i:\n",
    "            comparations += 1\n",
    "\n",
    "    instructions += 1\n",
    "    result = []\n",
    "    result.append(instructions)\n",
    "    result.append(comparations)\n",
    "    result.append(swaps)\n",
    "    return result"
   ]
  },
  {
   "cell_type": "code",
   "execution_count": 10,
   "metadata": {},
   "outputs": [
    {
     "name": "stdout",
     "output_type": "stream",
     "text": [
      "ARREGLO DE TAMAÑO 2\n",
      "La cantidad de instrucciones promedio es: 7.5\n",
      "La cantidad de comparaciones promedio es: 1.5\n",
      "La cantidad de intercambios promedio es: 0.5\n",
      "-----------------------\n",
      "ARREGLO DE TAMAÑO 2\n",
      "La cantidad de instrucciones promedio es: 7.5\n",
      "La cantidad de comparaciones promedio es: 1.5\n",
      "La cantidad de intercambios promedio es: 0.5\n",
      "-----------------------\n",
      "ARREGLO DE TAMAÑO 2\n",
      "La cantidad de instrucciones promedio es: 7.5\n",
      "La cantidad de comparaciones promedio es: 1.5\n",
      "La cantidad de intercambios promedio es: 0.5\n",
      "-----------------------\n",
      "ARREGLO DE TAMAÑO 2\n",
      "La cantidad de instrucciones promedio es: 7.5\n",
      "La cantidad de comparaciones promedio es: 1.5\n",
      "La cantidad de intercambios promedio es: 0.5\n",
      "-----------------------\n",
      "ARREGLO DE TAMAÑO 2\n",
      "La cantidad de instrucciones promedio es: 7.5\n",
      "La cantidad de comparaciones promedio es: 1.5\n",
      "La cantidad de intercambios promedio es: 0.5\n",
      "-----------------------\n",
      "ARREGLO DE TAMAÑO 2\n",
      "La cantidad de instrucciones promedio es: 7.5\n",
      "La cantidad de comparaciones promedio es: 1.5\n",
      "La cantidad de intercambios promedio es: 0.5\n",
      "-----------------------\n",
      "ARREGLO DE TAMAÑO 2\n",
      "La cantidad de instrucciones promedio es: 7.5\n",
      "La cantidad de comparaciones promedio es: 1.5\n",
      "La cantidad de intercambios promedio es: 0.5\n",
      "-----------------------\n",
      "ARREGLO DE TAMAÑO 2\n",
      "La cantidad de instrucciones promedio es: 7.5\n",
      "La cantidad de comparaciones promedio es: 1.5\n",
      "La cantidad de intercambios promedio es: 0.5\n",
      "-----------------------\n",
      "ARREGLO DE TAMAÑO 2\n",
      "La cantidad de instrucciones promedio es: 7.5\n",
      "La cantidad de comparaciones promedio es: 1.5\n",
      "La cantidad de intercambios promedio es: 0.5\n",
      "-----------------------\n"
     ]
    }
   ],
   "source": [
    "for i in range(2,11):\n",
    "    array = list(i for i in range(n))\n",
    "    accumulatedInstructions = 0\n",
    "    accumulatedComparations = 0\n",
    "    accumulatedSwaps = 0\n",
    "    long = 0\n",
    "    for j in permutations(array):\n",
    "        accumulated = insertionSort(list(j))\n",
    "        accumulatedInstructions += accumulated[0]\n",
    "        accumulatedComparations += accumulated[1]\n",
    "        accumulatedSwaps += accumulated[2]\n",
    "        long += 1\n",
    "\n",
    "    print('ARREGLO DE TAMAÑO {}'.format(n))\n",
    "    print('La cantidad de instrucciones promedio es: {}'.format(float(accumulatedInstructions / long)))\n",
    "    print('La cantidad de comparaciones promedio es: {}'.format(float(accumulatedComparations / long)))\n",
    "    print('La cantidad de intercambios promedio es: {}'.format(float(accumulatedSwaps / long)))\n",
    "    print('-----------------------')"
   ]
  },
  {
   "cell_type": "code",
   "execution_count": null,
   "metadata": {},
   "outputs": [],
   "source": []
  }
 ],
 "metadata": {
  "kernelspec": {
   "display_name": "Python 3",
   "language": "python",
   "name": "python3"
  },
  "language_info": {
   "codemirror_mode": {
    "name": "ipython",
    "version": 3
   },
   "file_extension": ".py",
   "mimetype": "text/x-python",
   "name": "python",
   "nbconvert_exporter": "python",
   "pygments_lexer": "ipython3",
   "version": "3.6.5"
  }
 },
 "nbformat": 4,
 "nbformat_minor": 2
}
