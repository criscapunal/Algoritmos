{
 "cells": [
  {
   "cell_type": "code",
   "execution_count": 2,
   "metadata": {},
   "outputs": [],
   "source": [
    "import matplotlib.pyplot as plt"
   ]
  },
  {
   "cell_type": "code",
   "execution_count": 3,
   "metadata": {},
   "outputs": [],
   "source": [
    "def swap(v, i, j):\n",
    "    t = v[i]\n",
    "    v[i] = v[j]\n",
    "    v[j] = t"
   ]
  },
  {
   "cell_type": "code",
   "execution_count": 4,
   "metadata": {},
   "outputs": [],
   "source": [
    "def permutation(v, i, n):\n",
    "    if i == n:\n",
    "        v1 = v[:]\n",
    "        permutations.append(v1)\n",
    "    else:\n",
    "        for j in range(i, n):\n",
    "            swap(v, i, j)\n",
    "            permutation(v, i + 1, n)\n",
    "            swap(v, i, j)"
   ]
  },
  {
   "cell_type": "code",
   "execution_count": 5,
   "metadata": {},
   "outputs": [],
   "source": [
    "def insertionSort(array):\n",
    "\n",
    "    comparations = 0\n",
    "    swaps = 0\n",
    "    instructions = 0\n",
    "    for i in range(1,len(array)):\n",
    "        temp = array[i]\n",
    "        j = i - 1\n",
    "        while j > -1 and temp < array[j]:\n",
    "            comparations += 1\n",
    "            array[j+1] = array[j]\n",
    "            j = j-1\n",
    "            swaps += 1\n",
    "            instructions += 3\n",
    "        instructions += 1\n",
    "        array[j+1] = temp\n",
    "        instructions += 4\n",
    "\n",
    "        if j != i:\n",
    "            comparations += 1\n",
    "\n",
    "    instructions += 1\n",
    "    result = []\n",
    "    result.append(instructions)\n",
    "    result.append(comparations)\n",
    "    result.append(swaps)\n",
    "    return result"
   ]
  },
  {
   "cell_type": "code",
   "execution_count": 11,
   "metadata": {},
   "outputs": [],
   "source": [
    "number = 4\n",
    "array = list(i for i in range(number))\n",
    "accumulatedInstructions = 0\n",
    "accumulatedComparations = 0\n",
    "accumulatedSwaps = 0\n",
    "permutations = []\n",
    "instructions = []\n",
    "comparations = []\n",
    "swaps = []\n",
    "permutation(array, 0, number)\n",
    "length = 0\n",
    "\n",
    "for i in range(len(permutations)):\n",
    "    accumulated = insertionSort(permutations[i])\n",
    "    accumulatedInstructions += accumulated[0]\n",
    "    instructions.append(accumulated[0])\n",
    "    accumulatedComparations += accumulated[1]\n",
    "    comparations.append(accumulated[1])\n",
    "    accumulatedSwaps += accumulated[2]\n",
    "    swaps.append(accumulated[2])\n",
    "    length += 1\n",
    "\n"
   ]
  },
  {
   "cell_type": "code",
   "execution_count": 12,
   "metadata": {},
   "outputs": [
    {
     "name": "stdout",
     "output_type": "stream",
     "text": [
      "ARREGLO DE TAMAÑO 4\n",
      "La cantidad de instrucciones promedio es: 25.0\n",
      "La cantidad de comparaciones promedio es: 6.0\n",
      "La cantidad de intercambios promedio es: 3.0\n"
     ]
    }
   ],
   "source": [
    "print('ARREGLO DE TAMAÑO {0}'.format(number))\n",
    "print('La cantidad de instrucciones promedio es: {0}'.format(float(accumulatedInstructions / length)))\n",
    "print('La cantidad de comparaciones promedio es: {0}'.format(float(accumulatedComparations / length)))\n",
    "print('La cantidad de intercambios promedio es: {0}'.format(float(accumulatedSwaps / length)))"
   ]
  },
  {
   "cell_type": "code",
   "execution_count": 13,
   "metadata": {},
   "outputs": [
    {
     "data": {
      "image/png": "[encoded data removed]",
      "text/plain": [
       "<Figure size 432x288 with 1 Axes>"
      ]
     },
     "metadata": {},
     "output_type": "display_data"
    }
   ],
   "source": [
    "bins = list(sorted(set(instructions)))\n",
    "bins.append(bins[len(bins)-1]+2)\n",
    "plt.hist(instructions, bins = bins,facecolor='blue', alpha=0.5, edgecolor = 'black',  linewidth=1)\n",
    "plt.xlabel('Número de instrucciones')\n",
    "plt.ylabel('Frecuencia')\n",
    "plt.title('Instrucciones')\n",
    "plt.show()"
   ]
  },
  {
   "cell_type": "code",
   "execution_count": 14,
   "metadata": {},
   "outputs": [
    {
     "data": {
      "image/png": "[encoded data removed]",
      "text/plain": [
       "<Figure size 432x288 with 1 Axes>"
      ]
     },
     "metadata": {},
     "output_type": "display_data"
    }
   ],
   "source": [
    "bins = list(sorted(set(comparations)))\n",
    "bins.append(bins[len(bins)-1]+1)\n",
    "plt.hist(comparations, bins = bins,facecolor='blue', alpha=0.5, edgecolor = 'black',  linewidth=1)\n",
    "plt.xlabel('Número de comparaciones')\n",
    "plt.ylabel('Frecuencia')\n",
    "plt.title('Comparaciones')\n",
    "plt.show()"
   ]
  },
  {
   "cell_type": "code",
   "execution_count": 15,
   "metadata": {},
   "outputs": [
    {
     "data": {
      "image/png": "[encoded data removed]",
      "text/plain": [
       "<Figure size 432x288 with 1 Axes>"
      ]
     },
     "metadata": {},
     "output_type": "display_data"
    }
   ],
   "source": [
    "bins = list(sorted(set(swaps)))\n",
    "bins.append(bins[len(bins)-1]+1)\n",
    "plt.hist(swaps, bins = bins,facecolor='blue', alpha=0.5, edgecolor = 'black',  linewidth=1)\n",
    "plt.xlabel('Número de intercambios')\n",
    "plt.ylabel('Frecuencia')\n",
    "plt.title('Intercambios')\n",
    "plt.show()"
   ]
  },
  {
   "cell_type": "code",
   "execution_count": null,
   "metadata": {},
   "outputs": [],
   "source": []
  }
 ],
 "metadata": {
  "kernelspec": {
   "display_name": "Python 3",
   "language": "python",
   "name": "python3"
  },
  "language_info": {
   "codemirror_mode": {
    "name": "ipython",
    "version": 3
   },
   "file_extension": ".py",
   "mimetype": "text/x-python",
   "name": "python",
   "nbconvert_exporter": "python",
   "pygments_lexer": "ipython3",
   "version": "3.6.5"
  }
 },
 "nbformat": 4,
 "nbformat_minor": 2
}
