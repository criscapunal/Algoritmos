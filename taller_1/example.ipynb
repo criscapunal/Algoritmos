{
 "cells": [
  {
   "cell_type": "code",
   "execution_count": 1,
   "metadata": {},
   "outputs": [],
   "source": [
    "import random\n",
    "import math\n",
    "import matplotlib.pyplot as plt\n",
    "%matplotlib inline"
   ]
  },
  {
   "cell_type": "code",
   "execution_count": 2,
   "metadata": {},
   "outputs": [],
   "source": [
    "def swap(v, i, j):\n",
    "    t = v[i]\n",
    "    v[i] = v[j]\n",
    "    v[j] = t"
   ]
  },
  {
   "cell_type": "code",
   "execution_count": 7,
   "metadata": {},
   "outputs": [],
   "source": [
    "def perm(v, i, n):\n",
    "    if i == n:\n",
    "        v1 = v[:]\n",
    "        permutaciones.append(v1)\n",
    "    else:\n",
    "        for j in range(i, n):\n",
    "            swap(v, i, j)\n",
    "            perm(v, i + 1, n)\n",
    "            swap(v, i, j)"
   ]
  },
  {
   "cell_type": "code",
   "execution_count": 8,
   "metadata": {},
   "outputs": [],
   "source": [
    "def insertion_short(A):\n",
    "\n",
    "    comparaciones = 0\n",
    "    intercambios = 0\n",
    "    instrucciones = 0\n",
    "    for i in range(1,len(A)):\n",
    "        temp = A[i]\n",
    "        j = i - 1\n",
    "        while j > -1 and temp < A[j]:\n",
    "            comparaciones += 1\n",
    "            A[j+1] = A[j]\n",
    "            j = j-1\n",
    "            intercambios += 1\n",
    "            instrucciones += 3\n",
    "        instrucciones += 1\n",
    "        A[j+1] = temp\n",
    "        instrucciones += 4\n",
    "\n",
    "        if j != i:\n",
    "            comparaciones += 1\n",
    "\n",
    "    instrucciones += 1\n",
    "    resultados = []\n",
    "    resultados.append(instrucciones)\n",
    "    resultados.append(comparaciones)\n",
    "    resultados.append(intercambios)\n",
    "    return resultados"
   ]
  },
  {
   "cell_type": "code",
   "execution_count": 9,
   "metadata": {},
   "outputs": [],
   "source": [
    "n = 10\n",
    "A = list(i for i in range(n))\n",
    "acum_ins = 0\n",
    "acum_c = 0\n",
    "acum_int = 0\n",
    "permutaciones = []\n",
    "instrucciones = []\n",
    "comparaciones = []\n",
    "intercambios = []\n",
    "n1 = random.randint(1, math.factorial(n))\n",
    "permutaciones = []\n",
    "perm(A, 0, n)\n",
    "random.shuffle(permutaciones)\n",
    "for a in range(n1):\n",
    "    acum = insertion_short(list(permutaciones[a]))\n",
    "    acum_ins += acum[0]\n",
    "    instrucciones.append(acum[0])\n",
    "    acum_c += acum[1]\n",
    "    comparaciones.append(acum[1])\n",
    "    acum_int += acum[2]\n",
    "    intercambios.append(acum[2])"
   ]
  },
  {
   "cell_type": "code",
   "execution_count": 10,
   "metadata": {},
   "outputs": [
    {
     "name": "stdout",
     "output_type": "stream",
     "text": [
      "ARREGLO DE TAMAÑO 10\n",
      "Número aleatorio de permutaciones: 1796350\n",
      "La cantidad de instrucciones promedio es: 113.48959055863278\n",
      "La cantidad de comparaciones promedio es: 31.49653018621093\n",
      "La cantidad de intercambios promedio es: 22.49653018621093\n"
     ]
    }
   ],
   "source": [
    "print('ARREGLO DE TAMAÑO {}'.format(n))\n",
    "print('Número aleatorio de permutaciones: {}'.format(n1))\n",
    "print('La cantidad de instrucciones promedio es: {}'.format(float(acum_ins / n1)))\n",
    "print('La cantidad de comparaciones promedio es: {}'.format(float(acum_c / n1)))\n",
    "print('La cantidad de intercambios promedio es: {}'.format(float(acum_int / n1)))"
   ]
  },
  {
   "cell_type": "code",
   "execution_count": 11,
   "metadata": {},
   "outputs": [
    {
     "data": {
      "image/png": "[encoded data removed]",
      "text/plain": [
       "<Figure size 432x288 with 1 Axes>"
      ]
     },
     "metadata": {},
     "output_type": "display_data"
    }
   ],
   "source": [
    "bins = list(sorted(set(instrucciones)))\n",
    "bins.append(bins[len(bins)-1]+2)\n",
    "plt.hist(instrucciones, bins = bins,facecolor='blue', alpha=0.5, edgecolor = 'black',  linewidth=1)\n",
    "plt.xlabel('Número de instrucciones')\n",
    "plt.ylabel('Frecuencia')\n",
    "plt.title('Instrucciones')\n",
    "plt.show()"
   ]
  },
  {
   "cell_type": "code",
   "execution_count": null,
   "metadata": {},
   "outputs": [],
   "source": []
  }
 ],
 "metadata": {
  "kernelspec": {
   "display_name": "Python 3",
   "language": "python",
   "name": "python3"
  },
  "language_info": {
   "codemirror_mode": {
    "name": "ipython",
    "version": 3
   },
   "file_extension": ".py",
   "mimetype": "text/x-python",
   "name": "python",
   "nbconvert_exporter": "python",
   "pygments_lexer": "ipython3",
   "version": "3.6.5"
  }
 },
 "nbformat": 4,
 "nbformat_minor": 2
}
