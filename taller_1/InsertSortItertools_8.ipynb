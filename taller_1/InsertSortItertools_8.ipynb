{
 "cells": [
  {
   "cell_type": "code",
   "execution_count": 17,
   "metadata": {},
   "outputs": [],
   "source": [
    "import itertools as iter\n",
    "import matplotlib.pyplot as plt"
   ]
  },
  {
   "cell_type": "code",
   "execution_count": 18,
   "metadata": {},
   "outputs": [],
   "source": [
    "def insert(array):\n",
    "    size = len(array)\n",
    "    values = [0,0,1]\n",
    "    key = 1\n",
    "    entry = False\n",
    "    while (key < size):\n",
    "        i = key\n",
    "        j = i - 1\n",
    "        while (j > -1):\n",
    "            values[1] = values[1]+1\n",
    "            if array[i] < array[j]:\n",
    "                entry = True\n",
    "                values[2] = values[2] + 1\n",
    "                aux = array[j]\n",
    "                array[j] = array[i]\n",
    "                array[i] = aux\n",
    "            i = i - 1\n",
    "            j = i - 1\n",
    "        key = key + 1\n",
    "    if entry == True:\n",
    "        values[0] = (values[0]+6)*key+2\n",
    "    else:\n",
    "        values[0] = (values[0]+3)*key+2\n",
    "    return [array,values]"
   ]
  },
  {
   "cell_type": "code",
   "execution_count": 19,
   "metadata": {},
   "outputs": [],
   "source": [
    "def generate(array,limit):\n",
    "    stat = []\n",
    "    lista = []\n",
    "    swaps = []\n",
    "    for e in iter.permutations(array,limit):\n",
    "        lista = list(e)\n",
    "        stat = insert(lista)\n",
    "        swaps.append(stat[1][2])\n",
    "    return swaps"
   ]
  },
  {
   "cell_type": "code",
   "execution_count": 20,
   "metadata": {},
   "outputs": [
    {
     "data": {
      "image/png": "[encoded data removed]",
      "text/plain": [
       "<Figure size 432x288 with 1 Axes>"
      ]
     },
     "metadata": {},
     "output_type": "display_data"
    }
   ],
   "source": [
    "n = 8\n",
    "array = []\n",
    "values = []\n",
    "for i in range(0,n):\n",
    "    array.append(i)\n",
    "values = generate(array,n)\n",
    "bins = list(sorted(set(values)))\n",
    "plt.hist(values, bins = bins, facecolor='blue', alpha=0.5, edgecolor = 'black',  linewidth=1)\n",
    "plt.title(\"Histograma - Numero de swaps para permutaciones cuando n = 8\")\n",
    "plt.show()"
   ]
  },
  {
   "cell_type": "code",
   "execution_count": null,
   "metadata": {
    "collapsed": true
   },
   "outputs": [],
   "source": []
  }
 ],
 "metadata": {
  "kernelspec": {
   "display_name": "Python 3",
   "language": "python",
   "name": "python3"
  },
  "language_info": {
   "codemirror_mode": {
    "name": "ipython",
    "version": 3
   },
   "file_extension": ".py",
   "mimetype": "text/x-python",
   "name": "python",
   "nbconvert_exporter": "python",
   "pygments_lexer": "ipython3",
   "version": "3.6.5"
  }
 },
 "nbformat": 4,
 "nbformat_minor": 1
}
